{
 "cells": [
  {
   "cell_type": "code",
   "execution_count": 29,
   "id": "varying-appliance",
   "metadata": {},
   "outputs": [],
   "source": [
    "from tensorflow.keras.datasets.mnist import load_data\n",
    "import tensorflow as tf\n",
    "from tensorflow.keras.models import load_model\n",
    "import numpy as np"
   ]
  },
  {
   "cell_type": "code",
   "execution_count": 30,
   "id": "opponent-commander",
   "metadata": {},
   "outputs": [],
   "source": [
    "(_, _), (x_test_real, _) = load_data()\n",
    "x_test_real = x_test_real / 255\n",
    "x_test_real = np.expand_dims(x_test_real, axis=-1)\n",
    "y_test_real = np.ones(len(x_test_real))"
   ]
  },
  {
   "cell_type": "code",
   "execution_count": 31,
   "id": "considered-portfolio",
   "metadata": {},
   "outputs": [
    {
     "name": "stdout",
     "output_type": "stream",
     "text": [
      "(10000, 28, 28, 1) (10000,)\n"
     ]
    }
   ],
   "source": [
    "print(x_test_real.shape, y_test_real.shape)"
   ]
  },
  {
   "cell_type": "code",
   "execution_count": 32,
   "id": "mexican-picking",
   "metadata": {},
   "outputs": [],
   "source": [
    "x_test_fake = np.random.rand(10_000,28,28,1)\n",
    "y_test_fake = np.zeros(10_000)"
   ]
  },
  {
   "cell_type": "code",
   "execution_count": 33,
   "id": "reasonable-waste",
   "metadata": {},
   "outputs": [
    {
     "name": "stdout",
     "output_type": "stream",
     "text": [
      "(10000, 28, 28, 1) (10000,)\n"
     ]
    }
   ],
   "source": [
    "print(x_test_fake.shape, y_test_fake.shape)"
   ]
  },
  {
   "cell_type": "code",
   "execution_count": 34,
   "id": "quantitative-ultimate",
   "metadata": {},
   "outputs": [],
   "source": [
    "x_test = np.concatenate((x_test_real, x_test_fake))\n",
    "y_test = np.concatenate((y_test_real, y_test_fake))"
   ]
  },
  {
   "cell_type": "code",
   "execution_count": 35,
   "id": "continuing-trigger",
   "metadata": {},
   "outputs": [
    {
     "name": "stdout",
     "output_type": "stream",
     "text": [
      "(20000, 28, 28, 1) (20000,)\n"
     ]
    }
   ],
   "source": [
    "print(x_test.shape, y_test.shape)"
   ]
  },
  {
   "cell_type": "code",
   "execution_count": 36,
   "id": "medium-discretion",
   "metadata": {},
   "outputs": [],
   "source": [
    "model = load_model(\"discriminator.model\")"
   ]
  },
  {
   "cell_type": "code",
   "execution_count": 37,
   "id": "atmospheric-jacob",
   "metadata": {},
   "outputs": [
    {
     "name": "stdout",
     "output_type": "stream",
     "text": [
      "625/625 [==============================] - 27s 43ms/step - loss: 1.6100e-06 - accuracy: 1.0000\n"
     ]
    }
   ],
   "source": [
    "loss, accuracy = model.evaluate(x_test, y_test)"
   ]
  },
  {
   "cell_type": "code",
   "execution_count": null,
   "id": "celtic-engineering",
   "metadata": {},
   "outputs": [],
   "source": []
  }
 ],
 "metadata": {
  "kernelspec": {
   "display_name": "Python 3",
   "language": "python",
   "name": "python3"
  },
  "language_info": {
   "codemirror_mode": {
    "name": "ipython",
    "version": 3
   },
   "file_extension": ".py",
   "mimetype": "text/x-python",
   "name": "python",
   "nbconvert_exporter": "python",
   "pygments_lexer": "ipython3",
   "version": "3.8.5"
  }
 },
 "nbformat": 4,
 "nbformat_minor": 5
}
