{
 "cells": [
  {
   "cell_type": "code",
   "execution_count": 1,
   "id": "vital-affect",
   "metadata": {},
   "outputs": [],
   "source": [
    "import tensorflow as tf\n",
    "from tensorflow import keras\n",
    "import numpy as np\n",
    "import matplotlib.pyplot as plt\n",
    "from tqdm import tqdm\n",
    "from tensorflow.keras.models import Sequential\n",
    "from tensorflow.keras.layers import Flatten, Dense, Conv2D, Conv2DTranspose, BatchNormalization, Reshape, Dropout\n",
    "from tensorflow.keras.datasets.mnist import load_data\n",
    "from tensorflow.nn import tanh, leaky_relu, sigmoid"
   ]
  },
  {
   "cell_type": "code",
   "execution_count": 2,
   "id": "unusual-presence",
   "metadata": {},
   "outputs": [
    {
     "data": {
      "text/plain": [
       "((60000, 28, 28, 1), (10000, 28, 28, 1))"
      ]
     },
     "execution_count": 2,
     "metadata": {},
     "output_type": "execute_result"
    }
   ],
   "source": [
    "(x_train, y_train), (x_test, y_test) = load_data()\n",
    "x_train = x_train / 255.0\n",
    "x_test = x_test / 255.0\n",
    "x_train = np.expand_dims(x_train, axis=-1)\n",
    "x_test = np.expand_dims(x_test, axis=-1)\n",
    "x_train.shape, x_test.shape"
   ]
  },
  {
   "cell_type": "code",
   "execution_count": 3,
   "id": "compressed-insertion",
   "metadata": {},
   "outputs": [
    {
     "data": {
      "image/png": "[encoded data removed]",
      "text/plain": [
       "<Figure size 720x720 with 25 Axes>"
      ]
     },
     "metadata": {},
     "output_type": "display_data"
    }
   ],
   "source": [
    "plt.figure(figsize = (10, 10))\n",
    "for i in range(1, 26):\n",
    "    plt.subplot(5, 5, i)\n",
    "    plt.xticks([])\n",
    "    plt.yticks([])\n",
    "    plt.grid(False)\n",
    "    plt.imshow(x_train[i], cmap = plt.cm.binary)\n",
    "plt.show()"
   ]
  },
  {
   "cell_type": "code",
   "execution_count": 4,
   "id": "eleven-weight",
   "metadata": {},
   "outputs": [],
   "source": [
    "BATCH_SIZE = 32\n",
    "NOISE = 100\n",
    "SEED = np.random.rand(BATCH_SIZE, 100)"
   ]
  },
  {
   "cell_type": "code",
   "execution_count": 5,
   "id": "resident-panama",
   "metadata": {},
   "outputs": [],
   "source": [
    "def create_batch(x_train):\n",
    "    dataset = tf.data.Dataset.from_tensor_slices(x_train).batch(BATCH_SIZE)\n",
    "    return dataset"
   ]
  },
  {
   "cell_type": "code",
   "execution_count": 6,
   "id": "elementary-graphics",
   "metadata": {},
   "outputs": [
    {
     "name": "stdout",
     "output_type": "stream",
     "text": [
      "Model: \"sequential\"\n",
      "_________________________________________________________________\n",
      "Layer (type)                 Output Shape              Param #   \n",
      "=================================================================\n",
      "dense (Dense)                (None, 6272)              633472    \n",
      "_________________________________________________________________\n",
      "reshape (Reshape)            (None, 7, 7, 128)         0         \n",
      "_________________________________________________________________\n",
      "batch_normalization (BatchNo (None, 7, 7, 128)         512       \n",
      "_________________________________________________________________\n",
      "conv2d_transpose (Conv2DTran (None, 14, 14, 64)        73792     \n",
      "_________________________________________________________________\n",
      "batch_normalization_1 (Batch (None, 14, 14, 64)        256       \n",
      "_________________________________________________________________\n",
      "conv2d_transpose_1 (Conv2DTr (None, 28, 28, 1)         577       \n",
      "=================================================================\n",
      "Total params: 708,609\n",
      "Trainable params: 708,225\n",
      "Non-trainable params: 384\n",
      "_________________________________________________________________\n"
     ]
    }
   ],
   "source": [
    "generator = Sequential()\n",
    "\n",
    "generator.add(Dense(7 * 7 * 128, input_shape =[NOISE]))\n",
    "generator.add(Reshape((7, 7, 128)))\n",
    "generator.add(BatchNormalization())\n",
    "\n",
    "generator.add(Conv2DTranspose(64, (3, 3), strides=(2, 2), padding =\"same\", activation =leaky_relu))\n",
    "generator.add(BatchNormalization())\n",
    "\n",
    "generator.add(Conv2DTranspose(1, (3, 3), strides=(2, 2), padding =\"same\", activation =\"tanh\"))\n",
    "\n",
    "generator.summary()"
   ]
  },
  {
   "cell_type": "code",
   "execution_count": 7,
   "id": "collected-report",
   "metadata": {},
   "outputs": [
    {
     "name": "stdout",
     "output_type": "stream",
     "text": [
      "Model: \"sequential_1\"\n",
      "_________________________________________________________________\n",
      "Layer (type)                 Output Shape              Param #   \n",
      "=================================================================\n",
      "conv2d (Conv2D)              (None, 14, 14, 64)        640       \n",
      "_________________________________________________________________\n",
      "dropout (Dropout)            (None, 14, 14, 64)        0         \n",
      "_________________________________________________________________\n",
      "conv2d_1 (Conv2D)            (None, 7, 7, 128)         73856     \n",
      "_________________________________________________________________\n",
      "dropout_1 (Dropout)          (None, 7, 7, 128)         0         \n",
      "_________________________________________________________________\n",
      "flatten (Flatten)            (None, 6272)              0         \n",
      "_________________________________________________________________\n",
      "dense_1 (Dense)              (None, 1)                 6273      \n",
      "=================================================================\n",
      "Total params: 80,769\n",
      "Trainable params: 80,769\n",
      "Non-trainable params: 0\n",
      "_________________________________________________________________\n"
     ]
    }
   ],
   "source": [
    "discriminator = Sequential()\n",
    "\n",
    "discriminator.add(Conv2D(64, (3, 3), strides=(2, 2), padding =\"same\", input_shape =(28, 28, 1), activation=leaky_relu))\n",
    "discriminator.add(Dropout(0.3))\n",
    "\n",
    "discriminator.add(Conv2D(128, (3, 3), strides=(2, 2), padding =\"same\", activation=leaky_relu))\n",
    "discriminator.add(Dropout(0.3))\n",
    "\n",
    "discriminator.add(Flatten())\n",
    "discriminator.add(Dense(1, activation =sigmoid))\n",
    "\n",
    "discriminator.summary()"
   ]
  },
  {
   "cell_type": "code",
   "execution_count": 8,
   "id": "angry-investing",
   "metadata": {},
   "outputs": [],
   "source": [
    "discriminator.compile(loss =\"binary_crossentropy\", optimizer =\"adam\")\n",
    "discriminator.trainable = False\n",
    "\n",
    "gans = Sequential([generator, discriminator])\n",
    "gans.compile(loss =\"binary_crossentropy\", optimizer =\"adam\")"
   ]
  },
  {
   "cell_type": "code",
   "execution_count": 9,
   "id": "stable-password",
   "metadata": {},
   "outputs": [],
   "source": [
    "def train_dcgan(gan, dataset):\n",
    "    generator, discriminator = gan.layers\n",
    "    epochs = 100\n",
    "    index = 0\n",
    "    for epoch in tqdm(range(epochs)):\n",
    "\n",
    "        for x_batch in dataset:\n",
    "            if x_batch.shape == (32, 28, 28, 1):\n",
    "                noise = np.random.rand(BATCH_SIZE, NOISE)\n",
    "                generated_images = generator(noise)\n",
    "\n",
    "                x_fake_and_real = np.concatenate((generated_images, x_batch))\n",
    "                y1 = np.concatenate(( np.zeros(BATCH_SIZE), np.ones(BATCH_SIZE) ))\n",
    "                discriminator.trainable = True\n",
    "                discriminator.train_on_batch(x_fake_and_real, y1)\n",
    "\n",
    "                # Here we will be training our GAN model, in this step\n",
    "                #  we pass noise that uses geeneratortogenerate the image\n",
    "                #  and pass it with labels as [1] So, it can fool the discriminatoe\n",
    "                noise = np.random.rand(BATCH_SIZE, NOISE)\n",
    "                y2 = np.ones(BATCH_SIZE)\n",
    "                discriminator.trainable = False\n",
    "                gan.train_on_batch(noise, y2)\n",
    "        \n",
    "        index += 1\n",
    "        # generate images for the GIF as we go\n",
    "        if index % 10 == 0:\n",
    "            generate_and_save_images(generator, index+1, SEED)\n",
    "        \n",
    "        \n"
   ]
  },
  {
   "cell_type": "code",
   "execution_count": 10,
   "id": "adjusted-treaty",
   "metadata": {},
   "outputs": [],
   "source": [
    "def generate_and_save_images(model, epoch, seed):\n",
    "    predictions = model(seed, training=False)\n",
    "\n",
    "    fig = plt.figure(figsize =(10, 10))\n",
    "  \n",
    "    for i in range(25):\n",
    "        plt.subplot(5, 5, i+1)\n",
    "        plt.imshow(predictions[i], cmap ='binary')\n",
    "        plt.axis('off')\n",
    "    \n",
    "    plt.savefig(f\"./images/{epoch}.png\")"
   ]
  },
  {
   "cell_type": "code",
   "execution_count": null,
   "id": "amino-movement",
   "metadata": {},
   "outputs": [
    {
     "name": "stderr",
     "output_type": "stream",
     "text": [
      " 16%|█▌        | 16/100 [42:15<3:35:56, 154.24s/it]"
     ]
    }
   ],
   "source": [
    "dataset = create_batch(x_train[:30_000])\n",
    "train_dcgan(gans, dataset)"
   ]
  },
  {
   "cell_type": "code",
   "execution_count": null,
   "id": "premium-intake",
   "metadata": {},
   "outputs": [],
   "source": []
  }
 ],
 "metadata": {
  "kernelspec": {
   "display_name": "Python 3",
   "language": "python",
   "name": "python3"
  },
  "language_info": {
   "codemirror_mode": {
    "name": "ipython",
    "version": 3
   },
   "file_extension": ".py",
   "mimetype": "text/x-python",
   "name": "python",
   "nbconvert_exporter": "python",
   "pygments_lexer": "ipython3",
   "version": "3.8.5"
  }
 },
 "nbformat": 4,
 "nbformat_minor": 5
}
