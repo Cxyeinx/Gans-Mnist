{
 "cells": [
  {
   "cell_type": "code",
   "execution_count": 1,
   "id": "chemical-migration",
   "metadata": {},
   "outputs": [],
   "source": [
    "import tensorflow as tf\n",
    "from tensorflow.keras.datasets.mnist import load_data\n",
    "from tensorflow.keras.models import Sequential\n",
    "from tensorflow.keras.layers import Flatten, Dense, Conv2DTranspose, Conv2D, BatchNormalization, Reshape, Dropout\n",
    "from tensorflow.nn import relu, tanh, leaky_relu, sigmoid\n",
    "import numpy as np\n",
    "import matplotlib.pyplot as plt\n",
    "from tqdm import tqdm"
   ]
  },
  {
   "cell_type": "code",
   "execution_count": 2,
   "id": "ideal-english",
   "metadata": {},
   "outputs": [],
   "source": [
    "(x_train, y_train), (x_test, y_test) = load_data()\n",
    "x_train = x_train / 255\n",
    "x_test = x_test / 255\n",
    "x_train = np.expand_dims(x_train, axis=-1)\n",
    "x_test = np.expand_dims(x_test, axis=-1)"
   ]
  },
  {
   "cell_type": "code",
   "execution_count": 3,
   "id": "swiss-finland",
   "metadata": {},
   "outputs": [
    {
     "name": "stdout",
     "output_type": "stream",
     "text": [
      "Model: \"sequential\"\n",
      "_________________________________________________________________\n",
      "Layer (type)                 Output Shape              Param #   \n",
      "=================================================================\n",
      "dense (Dense)                (None, 6272)              633472    \n",
      "_________________________________________________________________\n",
      "reshape (Reshape)            (None, 7, 7, 128)         0         \n",
      "_________________________________________________________________\n",
      "batch_normalization (BatchNo (None, 7, 7, 128)         512       \n",
      "_________________________________________________________________\n",
      "conv2d_transpose (Conv2DTran (None, 14, 14, 128)       147584    \n",
      "_________________________________________________________________\n",
      "conv2d_transpose_1 (Conv2DTr (None, 28, 28, 128)       147584    \n",
      "_________________________________________________________________\n",
      "batch_normalization_1 (Batch (None, 28, 28, 128)       512       \n",
      "_________________________________________________________________\n",
      "dropout (Dropout)            (None, 28, 28, 128)       0         \n",
      "_________________________________________________________________\n",
      "conv2d (Conv2D)              (None, 28, 28, 1)         1153      \n",
      "=================================================================\n",
      "Total params: 930,817\n",
      "Trainable params: 930,305\n",
      "Non-trainable params: 512\n",
      "_________________________________________________________________\n"
     ]
    }
   ],
   "source": [
    "generator = Sequential()\n",
    "\n",
    "generator.add(Dense(128*7*7, input_dim=100, activation=leaky_relu))\n",
    "generator.add(Reshape((7, 7, 128)))\n",
    "generator.add(BatchNormalization())\n",
    "\n",
    "generator.add(Conv2DTranspose(128, (3,3), strides=(2,2), padding=\"same\", activation=leaky_relu))\n",
    "generator.add(Conv2DTranspose(128, (3,3), strides=(2,2), padding=\"same\", activation=leaky_relu))\n",
    "generator.add(BatchNormalization())\n",
    "generator.add(Dropout(0.3))\n",
    "\n",
    "generator.add(Conv2D(1, (3,3), padding=\"same\", activation=tanh))\n",
    "\n",
    "generator.summary()"
   ]
  },
  {
   "cell_type": "code",
   "execution_count": 4,
   "id": "flexible-swing",
   "metadata": {},
   "outputs": [
    {
     "name": "stdout",
     "output_type": "stream",
     "text": [
      "Model: \"sequential_1\"\n",
      "_________________________________________________________________\n",
      "Layer (type)                 Output Shape              Param #   \n",
      "=================================================================\n",
      "conv2d_1 (Conv2D)            (None, 28, 28, 64)        640       \n",
      "_________________________________________________________________\n",
      "batch_normalization_2 (Batch (None, 28, 28, 64)        256       \n",
      "_________________________________________________________________\n",
      "conv2d_2 (Conv2D)            (None, 28, 28, 128)       73856     \n",
      "_________________________________________________________________\n",
      "batch_normalization_3 (Batch (None, 28, 28, 128)       512       \n",
      "_________________________________________________________________\n",
      "dropout_1 (Dropout)          (None, 28, 28, 128)       0         \n",
      "_________________________________________________________________\n",
      "conv2d_3 (Conv2D)            (None, 28, 28, 64)        73792     \n",
      "_________________________________________________________________\n",
      "batch_normalization_4 (Batch (None, 28, 28, 64)        256       \n",
      "_________________________________________________________________\n",
      "dropout_2 (Dropout)          (None, 28, 28, 64)        0         \n",
      "_________________________________________________________________\n",
      "flatten (Flatten)            (None, 50176)             0         \n",
      "_________________________________________________________________\n",
      "dense_1 (Dense)              (None, 64)                3211328   \n",
      "_________________________________________________________________\n",
      "dense_2 (Dense)              (None, 128)               8320      \n",
      "_________________________________________________________________\n",
      "dense_3 (Dense)              (None, 1)                 129       \n",
      "=================================================================\n",
      "Total params: 3,369,089\n",
      "Trainable params: 0\n",
      "Non-trainable params: 3,369,089\n",
      "_________________________________________________________________\n"
     ]
    }
   ],
   "source": [
    "discriminator = Sequential()\n",
    "\n",
    "discriminator.add(Conv2D(64, (3,3), padding=\"same\", input_shape=(28,28,1), activation=leaky_relu))\n",
    "discriminator.add(BatchNormalization())\n",
    "\n",
    "discriminator.add(Conv2D(128, (3,3), padding=\"same\", activation=leaky_relu))\n",
    "discriminator.add(BatchNormalization())\n",
    "discriminator.add(Dropout(0.3))\n",
    "\n",
    "discriminator.add(Conv2D(64, (3,3), padding=\"same\", activation=leaky_relu))\n",
    "discriminator.add(BatchNormalization())\n",
    "discriminator.add(Dropout(0.3))\n",
    "\n",
    "discriminator.add(Flatten())\n",
    "discriminator.add(Dense(64, activation=leaky_relu))\n",
    "discriminator.add(Dense(128, activation=leaky_relu))\n",
    "discriminator.add(Dense(1, activation=sigmoid))\n",
    "\n",
    "discriminator.compile(loss =\"binary_crossentropy\", optimizer =\"adam\")\n",
    "discriminator.trainable = False\n",
    "discriminator.summary()"
   ]
  },
  {
   "cell_type": "code",
   "execution_count": 5,
   "id": "duplicate-sleeve",
   "metadata": {},
   "outputs": [],
   "source": [
    "gan = Sequential([generator, discriminator])\n",
    "\n",
    "gan.compile(loss =\"binary_crossentropy\", optimizer =\"adam\")"
   ]
  },
  {
   "cell_type": "code",
   "execution_count": 6,
   "id": "smaller-movie",
   "metadata": {},
   "outputs": [],
   "source": [
    "gen, dis = gan.layers"
   ]
  },
  {
   "cell_type": "code",
   "execution_count": null,
   "id": "international-canberra",
   "metadata": {},
   "outputs": [
    {
     "name": "stderr",
     "output_type": "stream",
     "text": [
      "  0%|          | 0/10 [00:00<?, ?it/s]"
     ]
    },
    {
     "name": "stdout",
     "output_type": "stream",
     "text": [
      " 53/291 [====>.........................] - ETA: 1:55 - loss: 0.0144"
     ]
    }
   ],
   "source": [
    "for epoch in tqdm(range(10)):\n",
    "    # real samples for discriminator\n",
    "    random = np.random.randint(0, 10_000)\n",
    "    x_real = x_train[0:random]\n",
    "    np.random.shuffle(x_real)\n",
    "    y_real = np.ones(random)\n",
    "    \n",
    "    # fake samples for discriminator\n",
    "    x_fake = np.random.rand(random, 28, 28, 1)\n",
    "    y_fake = np.zeros(random)\n",
    "    \n",
    "    # make a huge array for discriminator\n",
    "    x = np.concatenate((x_real, x_fake))\n",
    "    y = np.concatenate((y_real, y_fake))\n",
    "    \n",
    "    # train the discriminator\n",
    "    dis.trainable = True\n",
    "    dis.fit(x, y, epochs=1)\n",
    "    \n",
    "    # train the gans model\n",
    "    noise = np.random.rand(100,100)\n",
    "    y2 = np.ones(100)\n",
    "    dis.trainable = False\n",
    "    gan.fit(noise, y2, epochs=1)\n",
    "    \n",
    "    # save the prediction\n",
    "    pred = gen(noise, training=False)\n",
    "    pred = np.array(pred)[33].squeeze(axis=-1)\n",
    "    plt.imsave(f\"{epoch}.png\", pred)"
   ]
  },
  {
   "cell_type": "code",
   "execution_count": null,
   "id": "immune-saturn",
   "metadata": {},
   "outputs": [],
   "source": []
  }
 ],
 "metadata": {
  "kernelspec": {
   "display_name": "Python 3",
   "language": "python",
   "name": "python3"
  },
  "language_info": {
   "codemirror_mode": {
    "name": "ipython",
    "version": 3
   },
   "file_extension": ".py",
   "mimetype": "text/x-python",
   "name": "python",
   "nbconvert_exporter": "python",
   "pygments_lexer": "ipython3",
   "version": "3.8.5"
  }
 },
 "nbformat": 4,
 "nbformat_minor": 5
}
