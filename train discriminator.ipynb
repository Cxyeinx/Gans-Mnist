{
 "cells": [
  {
   "cell_type": "code",
   "execution_count": 1,
   "id": "institutional-range",
   "metadata": {},
   "outputs": [],
   "source": [
    "import tensorflow as tf\n",
    "from tensorflow.keras.models import load_model\n",
    "from tensorflow.keras.datasets.mnist import load_data\n",
    "import numpy as np"
   ]
  },
  {
   "cell_type": "code",
   "execution_count": 2,
   "id": "stopped-floor",
   "metadata": {},
   "outputs": [],
   "source": [
    "model = load_model(\"discriminator.model\")"
   ]
  },
  {
   "cell_type": "code",
   "execution_count": 3,
   "id": "radio-panama",
   "metadata": {},
   "outputs": [],
   "source": [
    "(x_train_real, _), (_, _) = load_data()\n",
    "x_train_real = x_train_real / 255\n",
    "x_train_real = np.expand_dims(x_train_real, axis=-1)\n",
    "y_train_real = np.ones(len(x_train_real))"
   ]
  },
  {
   "cell_type": "code",
   "execution_count": 4,
   "id": "running-wilson",
   "metadata": {},
   "outputs": [],
   "source": [
    "x_train_fake = np.random.rand(60_000, 28, 28, 1)\n",
    "y_train_fake = np.zeros(60_000)"
   ]
  },
  {
   "cell_type": "code",
   "execution_count": 5,
   "id": "closing-building",
   "metadata": {},
   "outputs": [
    {
     "name": "stdout",
     "output_type": "stream",
     "text": [
      "(60000, 28, 28, 1) (60000,) (60000, 28, 28, 1) (60000,)\n"
     ]
    }
   ],
   "source": [
    "print(x_train_real.shape, y_train_real.shape, x_train_fake.shape, y_train_fake.shape)"
   ]
  },
  {
   "cell_type": "code",
   "execution_count": 6,
   "id": "harmful-panel",
   "metadata": {},
   "outputs": [
    {
     "name": "stdout",
     "output_type": "stream",
     "text": [
      "[1. 1. 1. ... 1. 1. 1.]\n",
      "[0. 0. 0. ... 0. 0. 0.]\n"
     ]
    }
   ],
   "source": [
    "print(y_train_real)\n",
    "print(y_train_fake)"
   ]
  },
  {
   "cell_type": "code",
   "execution_count": 7,
   "id": "vital-gravity",
   "metadata": {},
   "outputs": [],
   "source": [
    "x_train = np.concatenate((x_train_real, x_train_fake))\n",
    "y_train = np.concatenate((y_train_real, y_train_fake))"
   ]
  },
  {
   "cell_type": "code",
   "execution_count": 8,
   "id": "moderate-vienna",
   "metadata": {},
   "outputs": [
    {
     "name": "stdout",
     "output_type": "stream",
     "text": [
      "(120000, 28, 28, 1) (120000,)\n"
     ]
    }
   ],
   "source": [
    "print(x_train.shape, y_train.shape)"
   ]
  },
  {
   "cell_type": "code",
   "execution_count": 9,
   "id": "adaptive-clerk",
   "metadata": {},
   "outputs": [
    {
     "name": "stdout",
     "output_type": "stream",
     "text": [
      "3000/3000 [==============================] - 760s 253ms/step - loss: 3.7604e-04 - accuracy: 0.9998 - val_loss: 2.9628e-06 - val_accuracy: 1.0000\n"
     ]
    },
    {
     "data": {
      "text/plain": [
       "<tensorflow.python.keras.callbacks.History at 0x7f1ddd0e07c0>"
      ]
     },
     "execution_count": 9,
     "metadata": {},
     "output_type": "execute_result"
    }
   ],
   "source": [
    "model.fit(x_train, y_train, epochs=1, shuffle=True, validation_split=0.2)"
   ]
  },
  {
   "cell_type": "code",
   "execution_count": 10,
   "id": "preliminary-charles",
   "metadata": {},
   "outputs": [
    {
     "name": "stdout",
     "output_type": "stream",
     "text": [
      "INFO:tensorflow:Assets written to: discriminator.model/assets\n"
     ]
    }
   ],
   "source": [
    "model.save(\"discriminator.model\")"
   ]
  },
  {
   "cell_type": "code",
   "execution_count": null,
   "id": "challenging-verification",
   "metadata": {},
   "outputs": [],
   "source": []
  }
 ],
 "metadata": {
  "kernelspec": {
   "display_name": "Python 3",
   "language": "python",
   "name": "python3"
  },
  "language_info": {
   "codemirror_mode": {
    "name": "ipython",
    "version": 3
   },
   "file_extension": ".py",
   "mimetype": "text/x-python",
   "name": "python",
   "nbconvert_exporter": "python",
   "pygments_lexer": "ipython3",
   "version": "3.8.5"
  }
 },
 "nbformat": 4,
 "nbformat_minor": 5
}
