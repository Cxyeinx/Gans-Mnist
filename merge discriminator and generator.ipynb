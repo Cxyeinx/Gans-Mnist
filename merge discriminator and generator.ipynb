{
 "cells": [
  {
   "cell_type": "code",
   "execution_count": 1,
   "id": "reduced-decimal",
   "metadata": {},
   "outputs": [],
   "source": [
    "import tensorflow as tf\n",
    "from tensorflow.keras.models import load_model\n",
    "from tensorflow.keras.models import Sequential\n",
    "# from tensorflow.keras.layers import Dense, Flatten, Conv2D, Dropout, BatchNormalization, Reshape, Conv2DTranspose\n",
    "from tensorflow.nn import leaky_relu, relu, softmax, sigmoid\n",
    "import numpy as np\n",
    "import matplotlib.pyplot as plt"
   ]
  },
  {
   "cell_type": "code",
   "execution_count": 4,
   "id": "motivated-smile",
   "metadata": {},
   "outputs": [],
   "source": [
    "discriminator = load_model(\"discriminator.model\")\n",
    "discriminator.trainable = False"
   ]
  },
  {
   "cell_type": "code",
   "execution_count": 3,
   "id": "seven-horror",
   "metadata": {},
   "outputs": [
    {
     "name": "stdout",
     "output_type": "stream",
     "text": [
      "WARNING:tensorflow:No training configuration found in save file, so the model was *not* compiled. Compile it manually.\n"
     ]
    }
   ],
   "source": [
    "generator = load_model(\"generator.model\")"
   ]
  },
  {
   "cell_type": "code",
   "execution_count": 7,
   "id": "viral-destination",
   "metadata": {},
   "outputs": [],
   "source": [
    "gans = Sequential()\n",
    "\n",
    "gans.add(generator)\n",
    "gans.add(discriminator)\n",
    "\n",
    "gans.compile(loss=\"binary_crossentropy\", optimizer=\"adam\", metrics=[\"accuracy\"])"
   ]
  },
  {
   "cell_type": "code",
   "execution_count": 8,
   "id": "liked-designation",
   "metadata": {},
   "outputs": [
    {
     "name": "stdout",
     "output_type": "stream",
     "text": [
      "Model: \"sequential\"\n",
      "_________________________________________________________________\n",
      "Layer (type)                 Output Shape              Param #   \n",
      "=================================================================\n",
      "sequential (Sequential)      (None, 28, 28, 1)         929793    \n",
      "_________________________________________________________________\n",
      "sequential_2 (Sequential)    (None, 1)                 3286657   \n",
      "=================================================================\n",
      "Total params: 4,216,450\n",
      "Trainable params: 929,793\n",
      "Non-trainable params: 3,286,657\n",
      "_________________________________________________________________\n"
     ]
    }
   ],
   "source": [
    "gans.summary()"
   ]
  },
  {
   "cell_type": "code",
   "execution_count": 9,
   "id": "operational-ecuador",
   "metadata": {},
   "outputs": [
    {
     "name": "stdout",
     "output_type": "stream",
     "text": [
      "INFO:tensorflow:Assets written to: gans.model/assets\n"
     ]
    }
   ],
   "source": [
    "gans.save(\"gans.model\")"
   ]
  },
  {
   "cell_type": "code",
   "execution_count": null,
   "id": "senior-antarctica",
   "metadata": {},
   "outputs": [],
   "source": []
  }
 ],
 "metadata": {
  "kernelspec": {
   "display_name": "Python 3",
   "language": "python",
   "name": "python3"
  },
  "language_info": {
   "codemirror_mode": {
    "name": "ipython",
    "version": 3
   },
   "file_extension": ".py",
   "mimetype": "text/x-python",
   "name": "python",
   "nbconvert_exporter": "python",
   "pygments_lexer": "ipython3",
   "version": "3.8.5"
  }
 },
 "nbformat": 4,
 "nbformat_minor": 5
}
