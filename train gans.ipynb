{
 "cells": [
  {
   "cell_type": "code",
   "execution_count": 1,
   "id": "blank-imaging",
   "metadata": {},
   "outputs": [],
   "source": [
    "import tensorflow as tf\n",
    "from tensorflow.keras.models import load_model\n",
    "from tensorflow.keras.models import Sequential\n",
    "# from tensorflow.keras.layers import Dense, Flatten, Conv2D, Dropout, BatchNormalization, Reshape, Conv2DTranspose\n",
    "from tensorflow.nn import leaky_relu, relu, softmax, sigmoid\n",
    "import numpy as np\n",
    "import matplotlib.pyplot as plt\n",
    "from tqdm import tqdm"
   ]
  },
  {
   "cell_type": "code",
   "execution_count": 2,
   "id": "deluxe-exclusion",
   "metadata": {},
   "outputs": [],
   "source": [
    "gans = load_model(\"gans.model\")"
   ]
  },
  {
   "cell_type": "code",
   "execution_count": null,
   "id": "interested-match",
   "metadata": {},
   "outputs": [
    {
     "name": "stderr",
     "output_type": "stream",
     "text": [
      "  2%|▏         | 15/1000 [03:35<3:50:18, 14.03s/it]"
     ]
    }
   ],
   "source": [
    "for i in tqdm(range(1000)):\n",
    "    x_train = np.random.rand(1000,100)\n",
    "    y_train = np.ones(1000)\n",
    "    gans.train_on_batch(x_train, y_train)"
   ]
  },
  {
   "cell_type": "code",
   "execution_count": null,
   "id": "formal-composer",
   "metadata": {},
   "outputs": [],
   "source": [
    "gans.save(\"gans.model\")"
   ]
  },
  {
   "cell_type": "code",
   "execution_count": null,
   "id": "spoken-three",
   "metadata": {},
   "outputs": [],
   "source": [
    "x_train = np.random.rand(256,100)\n",
    "y_train = np.ones(256)\n",
    "loss, accuracy = gans.evaluate(x_train, y_train)"
   ]
  },
  {
   "cell_type": "code",
   "execution_count": null,
   "id": "atmospheric-thomson",
   "metadata": {},
   "outputs": [],
   "source": [
    "gans.summary()"
   ]
  },
  {
   "cell_type": "code",
   "execution_count": null,
   "id": "diagnostic-market",
   "metadata": {},
   "outputs": [],
   "source": [
    "from tensorflow.keras import backend as K\n",
    "get_3rd_layer_output = K.function([gans.layers[0].input],\n",
    "                                  [gans.layers[0].output])\n",
    "layer_output = get_3rd_layer_output([x_train])[0]"
   ]
  },
  {
   "cell_type": "code",
   "execution_count": null,
   "id": "decreased-privilege",
   "metadata": {},
   "outputs": [],
   "source": [
    "plt.imshow(layer_output[100], cmap=\"gray\")"
   ]
  },
  {
   "cell_type": "code",
   "execution_count": null,
   "id": "objective-andrew",
   "metadata": {},
   "outputs": [],
   "source": []
  },
  {
   "cell_type": "code",
   "execution_count": null,
   "id": "musical-adaptation",
   "metadata": {},
   "outputs": [],
   "source": []
  }
 ],
 "metadata": {
  "kernelspec": {
   "display_name": "Python 3",
   "language": "python",
   "name": "python3"
  },
  "language_info": {
   "codemirror_mode": {
    "name": "ipython",
    "version": 3
   },
   "file_extension": ".py",
   "mimetype": "text/x-python",
   "name": "python",
   "nbconvert_exporter": "python",
   "pygments_lexer": "ipython3",
   "version": "3.8.5"
  }
 },
 "nbformat": 4,
 "nbformat_minor": 5
}
