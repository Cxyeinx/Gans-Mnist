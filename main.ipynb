{
 "cells": [
  {
   "cell_type": "code",
   "execution_count": 7,
   "id": "yellow-snake",
   "metadata": {},
   "outputs": [],
   "source": [
    "import tensorflow as tf\n",
    "from tensorflow.keras.datasets import mnist\n",
    "from tensorflow.keras.models import Sequential\n",
    "from tensorflow.keras.layers import Dense, Flatten, Conv2D, Dropout, BatchNormalization\n",
    "from tensorflow.nn import leaky_relu, relu, softmax, sigmoid\n",
    "import numpy as np\n",
    "import matplotlib.pyplot as plt"
   ]
  },
  {
   "cell_type": "code",
   "execution_count": 8,
   "id": "simple-litigation",
   "metadata": {},
   "outputs": [],
   "source": [
    "# discriminator to check that the generated is even readable or not :P\n",
    "discriminator = Sequential()\n",
    "\n",
    "discriminator.add(Conv2D(64, (3,3), padding=\"same\", input_shape=(28,28,1), activation=relu))\n",
    "discriminator.add(Dropout(0.3))\n",
    "discriminator.add(BatchNormalization())\n",
    "\n",
    "discriminator.add(Conv2D(64, (3,3), padding=\"same\", activation=relu))\n",
    "discriminator.add(Dropout(0.3))\n",
    "discriminator.add(BatchNormalization())\n",
    "\n",
    "discriminator.add(Conv2D(64, (3,3), padding=\"same\", activation=relu))\n",
    "discriminator.add(Dropout(0.3))\n",
    "discriminator.add(BatchNormalization())\n",
    "\n",
    "discriminator.add(Flatten())\n",
    "discriminator.add(Dense(64, activation=\"relu\"))\n",
    "discriminator.add(Dense(1, activation=sigmoid))\n",
    "\n",
    "discriminator.compile(loss=\"binary_crossentropy\", optimizer=\"adam\", metrics=[\"accuracy\"])"
   ]
  },
  {
   "cell_type": "code",
   "execution_count": 9,
   "id": "excited-dayton",
   "metadata": {},
   "outputs": [
    {
     "name": "stdout",
     "output_type": "stream",
     "text": [
      "INFO:tensorflow:Assets written to: discriminator.model/assets\n"
     ]
    }
   ],
   "source": [
    "discriminator.save(\"discriminator.model\")"
   ]
  },
  {
   "cell_type": "code",
   "execution_count": null,
   "id": "formed-armenia",
   "metadata": {},
   "outputs": [],
   "source": []
  }
 ],
 "metadata": {
  "kernelspec": {
   "display_name": "Python 3",
   "language": "python",
   "name": "python3"
  },
  "language_info": {
   "codemirror_mode": {
    "name": "ipython",
    "version": 3
   },
   "file_extension": ".py",
   "mimetype": "text/x-python",
   "name": "python",
   "nbconvert_exporter": "python",
   "pygments_lexer": "ipython3",
   "version": "3.8.5"
  }
 },
 "nbformat": 4,
 "nbformat_minor": 5
}
