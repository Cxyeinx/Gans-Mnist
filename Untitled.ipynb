{
 "cells": [
  {
   "cell_type": "code",
   "execution_count": 1,
   "id": "frequent-forest",
   "metadata": {},
   "outputs": [],
   "source": [
    "import tensorflow as tf\n",
    "import numpy as np"
   ]
  },
  {
   "cell_type": "code",
   "execution_count": 2,
   "id": "anonymous-committee",
   "metadata": {},
   "outputs": [],
   "source": [
    "model = tf.keras.models.load_model(\"discriminator.model\")"
   ]
  },
  {
   "cell_type": "code",
   "execution_count": 3,
   "id": "diagnostic-beginning",
   "metadata": {},
   "outputs": [
    {
     "data": {
      "text/plain": [
       "array([[1.1971135e-06],\n",
       "       [6.5441171e-08],\n",
       "       [8.9744873e-07],\n",
       "       [1.6935076e-06],\n",
       "       [2.8210607e-08],\n",
       "       [8.2512139e-09],\n",
       "       [1.7478094e-05],\n",
       "       [1.0489172e-07],\n",
       "       [5.5928888e-07],\n",
       "       [1.0195397e-09]], dtype=float32)"
      ]
     },
     "execution_count": 3,
     "metadata": {},
     "output_type": "execute_result"
    }
   ],
   "source": [
    "x = np.random.rand(10,28,28,1)\n",
    "pred = model.predict(x)\n",
    "pred"
   ]
  },
  {
   "cell_type": "code",
   "execution_count": null,
   "id": "hazardous-grove",
   "metadata": {},
   "outputs": [],
   "source": []
  }
 ],
 "metadata": {
  "kernelspec": {
   "display_name": "Python 3",
   "language": "python",
   "name": "python3"
  },
  "language_info": {
   "codemirror_mode": {
    "name": "ipython",
    "version": 3
   },
   "file_extension": ".py",
   "mimetype": "text/x-python",
   "name": "python",
   "nbconvert_exporter": "python",
   "pygments_lexer": "ipython3",
   "version": "3.8.5"
  }
 },
 "nbformat": 4,
 "nbformat_minor": 5
}
